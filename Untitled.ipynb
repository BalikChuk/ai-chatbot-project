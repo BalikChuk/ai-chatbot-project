{
 "cells": [
  {
   "cell_type": "code",
   "execution_count": 1,
   "id": "8a59f05a-08a8-4c2a-8bcf-d58448856200",
   "metadata": {},
   "outputs": [
    {
     "data": {
      "text/plain": [
       "['I love programming in Python',\n",
       " 'Python is great for machine learning',\n",
       " 'I enjoy learning new programming languages']"
      ]
     },
     "execution_count": 1,
     "metadata": {},
     "output_type": "execute_result"
    }
   ],
   "source": [
    "texts = [\n",
    "    \"I love programming in Python\",\n",
    "    \"Python is great for machine learning\",\n",
    "    \"I enjoy learning new programming languages\"\n",
    "]\n",
    "texts\n"
   ]
  },
  {
   "cell_type": "code",
   "execution_count": 2,
   "id": "d0cb399e-dc45-4742-8045-26b28103f168",
   "metadata": {},
   "outputs": [
    {
     "name": "stdout",
     "output_type": "stream",
     "text": [
      "Vocabulary: ['enjoy' 'for' 'great' 'in' 'is' 'languages' 'learning' 'love' 'machine'\n",
      " 'new' 'programming' 'python']\n",
      "BoW Matrix:\n",
      " [[0 0 0 1 0 0 0 1 0 0 1 1]\n",
      " [0 1 1 0 1 0 1 0 1 0 0 1]\n",
      " [1 0 0 0 0 1 1 0 0 1 1 0]]\n"
     ]
    }
   ],
   "source": [
    "from sklearn.feature_extraction.text import CountVectorizer\n",
    "\n",
    "bow_vectorizer = CountVectorizer()\n",
    "X_bow = bow_vectorizer.fit_transform(texts)\n",
    "\n",
    "print(\"Vocabulary:\", bow_vectorizer.get_feature_names_out())\n",
    "print(\"BoW Matrix:\\n\", X_bow.toarray())\n"
   ]
  },
  {
   "cell_type": "code",
   "execution_count": 3,
   "id": "2e8e842c-4831-4bbe-a7fa-5c3fa13dc61d",
   "metadata": {},
   "outputs": [
    {
     "name": "stdout",
     "output_type": "stream",
     "text": [
      "Vocabulary: ['enjoy' 'for' 'great' 'in' 'is' 'languages' 'learning' 'love' 'machine'\n",
      " 'new' 'programming' 'python']\n",
      "TF-IDF Matrix:\n",
      " [[0.         0.         0.         0.5628291  0.         0.\n",
      "  0.         0.5628291  0.         0.         0.42804604 0.42804604]\n",
      " [0.         0.44036207 0.44036207 0.         0.44036207 0.\n",
      "  0.3349067  0.         0.44036207 0.         0.         0.3349067 ]\n",
      " [0.49047908 0.         0.         0.         0.         0.49047908\n",
      "  0.37302199 0.         0.         0.49047908 0.37302199 0.        ]]\n"
     ]
    }
   ],
   "source": [
    "from sklearn.feature_extraction.text import TfidfVectorizer\n",
    "\n",
    "tfidf_vectorizer = TfidfVectorizer()\n",
    "X_tfidf = tfidf_vectorizer.fit_transform(texts)\n",
    "\n",
    "print(\"Vocabulary:\", tfidf_vectorizer.get_feature_names_out())\n",
    "print(\"TF-IDF Matrix:\\n\", X_tfidf.toarray())\n"
   ]
  },
  {
   "cell_type": "code",
   "execution_count": null,
   "id": "f9a70d5a-f84f-4e38-9795-d975e3860332",
   "metadata": {},
   "outputs": [],
   "source": []
  }
 ],
 "metadata": {
  "kernelspec": {
   "display_name": "Python 3 (ipykernel)",
   "language": "python",
   "name": "python3"
  },
  "language_info": {
   "codemirror_mode": {
    "name": "ipython",
    "version": 3
   },
   "file_extension": ".py",
   "mimetype": "text/x-python",
   "name": "python",
   "nbconvert_exporter": "python",
   "pygments_lexer": "ipython3",
   "version": "3.13.7"
  }
 },
 "nbformat": 4,
 "nbformat_minor": 5
}
